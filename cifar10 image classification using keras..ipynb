{
 "cells": [
  {
   "cell_type": "code",
   "execution_count": 48,
   "metadata": {},
   "outputs": [],
   "source": [
    "import tensorflow as tf\n",
    "from keras.datasets import cifar10\n",
    "from keras.utils import np_utils\n",
    "from keras.models import Sequential\n",
    "from keras.layers.core import Dense, Activation, Flatten, Dropout\n",
    "from keras.layers.convolutional import Conv2D, MaxPooling2D\n",
    "from keras.optimizers import SGD, Adam, RMSprop, Adagrad\n",
    "import matplotlib.pyplot as plt\n"
   ]
  },
  {
   "cell_type": "code",
   "execution_count": 25,
   "metadata": {},
   "outputs": [],
   "source": [
    "IMG_CHANNELS = 3\n",
    "IMG_ROWS = 32\n",
    "IMG_COLS = 32\n",
    "\n",
    "#CONSTANT\n",
    "BATCH_SIZE = 128\n",
    "NB_EPOCH = 20\n",
    "NB_CLASSES = 10\n",
    "VERBOSE = 1\n",
    "VALIDATION_SPLIT = 0.2\n",
    "OPTIM = RMSprop()\n",
    "\n",
    "#load dataset. Connect the device with internet. It will download the dataset and save it in a filder named .keras\n",
    "(X_train, y_train), (X_test, y_test) = cifar10.load_data()"
   ]
  },
  {
   "cell_type": "code",
   "execution_count": 26,
   "metadata": {},
   "outputs": [
    {
     "name": "stdout",
     "output_type": "stream",
     "text": [
      "(50000, 32, 32, 3) X_train shape\n",
      "(10000, 32, 32, 3) X_test shape\n",
      "(50000, 1)\n",
      "(10000, 1)\n"
     ]
    }
   ],
   "source": [
    "print(X_train.shape, \"X_train shape\")\n",
    "print(X_test.shape, \"X_test shape\")\n",
    "print(y_train.shape)\n",
    "print(y_test.shape)"
   ]
  },
  {
   "cell_type": "code",
   "execution_count": 27,
   "metadata": {},
   "outputs": [
    {
     "data": {
      "text/plain": [
       "4"
      ]
     },
     "execution_count": 27,
     "metadata": {},
     "output_type": "execute_result"
    }
   ],
   "source": [
    "X_train.ndim"
   ]
  },
  {
   "cell_type": "code",
   "execution_count": 28,
   "metadata": {},
   "outputs": [],
   "source": [
    "#print(X_train)"
   ]
  },
  {
   "cell_type": "code",
   "execution_count": 29,
   "metadata": {},
   "outputs": [
    {
     "data": {
      "image/png": "[encoded data removed]",
      "text/plain": [
       "<Figure size 432x288 with 1 Axes>"
      ]
     },
     "metadata": {
      "needs_background": "light"
     },
     "output_type": "display_data"
    },
    {
     "name": "stdout",
     "output_type": "stream",
     "text": [
      "(32, 32, 3)\n"
     ]
    }
   ],
   "source": [
    "plt.imshow(X_train[0])\n",
    "plt.show()\n",
    "print(X_train[567].shape)"
   ]
  },
  {
   "cell_type": "code",
   "execution_count": 30,
   "metadata": {},
   "outputs": [
    {
     "data": {
      "text/plain": [
       "4"
      ]
     },
     "execution_count": 30,
     "metadata": {},
     "output_type": "execute_result"
    }
   ],
   "source": [
    "X_train.ndim"
   ]
  },
  {
   "cell_type": "code",
   "execution_count": 31,
   "metadata": {},
   "outputs": [],
   "source": [
    "#convert to categorical\n",
    "Y_train = np_utils.to_categorical(y_train, NB_CLASSES)\n",
    "Y_test = np_utils.to_categorical(y_test, NB_CLASSES)\n",
    "\n",
    "#float and normalization\n",
    "X_train = X_train.astype('float32')\n",
    "X_test = X_test.astype('float32')\n",
    "X_train /= 255\n",
    "X_test /= 255"
   ]
  },
  {
   "cell_type": "code",
   "execution_count": 34,
   "metadata": {},
   "outputs": [
    {
     "name": "stdout",
     "output_type": "stream",
     "text": [
      "Model: \"sequential_4\"\n",
      "_________________________________________________________________\n",
      "Layer (type)                 Output Shape              Param #   \n",
      "=================================================================\n",
      "conv2d_3 (Conv2D)            (None, 32, 32, 32)        896       \n",
      "_________________________________________________________________\n",
      "activation_2 (Activation)    (None, 32, 32, 32)        0         \n",
      "_________________________________________________________________\n",
      "max_pooling2d_2 (MaxPooling2 (None, 16, 16, 32)        0         \n",
      "_________________________________________________________________\n",
      "dropout_1 (Dropout)          (None, 16, 16, 32)        0         \n",
      "_________________________________________________________________\n",
      "flatten_1 (Flatten)          (None, 8192)              0         \n",
      "_________________________________________________________________\n",
      "dense_1 (Dense)              (None, 512)               4194816   \n",
      "_________________________________________________________________\n",
      "activation_3 (Activation)    (None, 512)               0         \n",
      "_________________________________________________________________\n",
      "dropout_2 (Dropout)          (None, 512)               0         \n",
      "_________________________________________________________________\n",
      "dense_2 (Dense)              (None, 10)                5130      \n",
      "_________________________________________________________________\n",
      "activation_4 (Activation)    (None, 10)                0         \n",
      "=================================================================\n",
      "Total params: 4,200,842\n",
      "Trainable params: 4,200,842\n",
      "Non-trainable params: 0\n",
      "_________________________________________________________________\n"
     ]
    }
   ],
   "source": [
    "#model\n",
    "model = Sequential()\n",
    "model.add(Conv2D(32,(3,3),padding = 'same',input_shape=(IMG_ROWS, IMG_COLS, IMG_CHANNELS)))\n",
    "model.add(Activation('relu'))\n",
    "model.add(MaxPooling2D(pool_size=(2,2)))\n",
    "model.add(Dropout(0.25))\n",
    "model.add(Flatten())\n",
    "model.add(Dense(512))\n",
    "model.add(Activation('relu'))\n",
    "model.add(Dropout(0.5))\n",
    "model.add(Dense(NB_CLASSES))\n",
    "model.add(Activation('softmax'))\n",
    "model.summary()"
   ]
  },
  {
   "cell_type": "code",
   "execution_count": 51,
   "metadata": {},
   "outputs": [
    {
     "name": "stdout",
     "output_type": "stream",
     "text": [
      "Train on 40000 samples, validate on 10000 samples\n",
      "Epoch 1/20\n",
      "40000/40000 [==============================] - 50s 1ms/step - loss: 2.0165 - accuracy: 0.3495 - val_loss: 1.5031 - val_accuracy: 0.4669\n",
      "Epoch 2/20\n",
      "40000/40000 [==============================] - 66s 2ms/step - loss: 1.4746 - accuracy: 0.4755 - val_loss: 1.3676 - val_accuracy: 0.5240\n",
      "Epoch 3/20\n",
      "40000/40000 [==============================] - 68s 2ms/step - loss: 1.3761 - accuracy: 0.5120 - val_loss: 1.2891 - val_accuracy: 0.5567\n",
      "Epoch 4/20\n",
      "40000/40000 [==============================] - 70s 2ms/step - loss: 1.3017 - accuracy: 0.5380 - val_loss: 1.2353 - val_accuracy: 0.5761\n",
      "Epoch 5/20\n",
      "40000/40000 [==============================] - 58s 1ms/step - loss: 1.2551 - accuracy: 0.5577 - val_loss: 1.1876 - val_accuracy: 0.5972\n",
      "Epoch 6/20\n",
      "40000/40000 [==============================] - 53s 1ms/step - loss: 1.2104 - accuracy: 0.5761 - val_loss: 1.1626 - val_accuracy: 0.6047\n",
      "Epoch 7/20\n",
      "40000/40000 [==============================] - 53s 1ms/step - loss: 1.1761 - accuracy: 0.5889 - val_loss: 1.1498 - val_accuracy: 0.6046\n",
      "Epoch 8/20\n",
      "40000/40000 [==============================] - 53s 1ms/step - loss: 1.1389 - accuracy: 0.6036 - val_loss: 1.1433 - val_accuracy: 0.5983\n",
      "Epoch 9/20\n",
      "40000/40000 [==============================] - 53s 1ms/step - loss: 1.1154 - accuracy: 0.6108 - val_loss: 1.0982 - val_accuracy: 0.6242\n",
      "Epoch 10/20\n",
      "40000/40000 [==============================] - 53s 1ms/step - loss: 1.0959 - accuracy: 0.6140 - val_loss: 1.1001 - val_accuracy: 0.6223\n",
      "Epoch 11/20\n",
      "40000/40000 [==============================] - 54s 1ms/step - loss: 1.0709 - accuracy: 0.6261 - val_loss: 1.0693 - val_accuracy: 0.6357\n",
      "Epoch 12/20\n",
      "40000/40000 [==============================] - 53s 1ms/step - loss: 1.0537 - accuracy: 0.6331 - val_loss: 1.0722 - val_accuracy: 0.6321\n",
      "Epoch 13/20\n",
      "40000/40000 [==============================] - 53s 1ms/step - loss: 1.0330 - accuracy: 0.6385 - val_loss: 1.0428 - val_accuracy: 0.6409\n",
      "Epoch 14/20\n",
      "40000/40000 [==============================] - 54s 1ms/step - loss: 1.0155 - accuracy: 0.6474 - val_loss: 1.0357 - val_accuracy: 0.6424\n",
      "Epoch 15/20\n",
      "40000/40000 [==============================] - 53s 1ms/step - loss: 0.9985 - accuracy: 0.6523 - val_loss: 1.0659 - val_accuracy: 0.6304\n",
      "Epoch 16/20\n",
      "40000/40000 [==============================] - 53s 1ms/step - loss: 0.9906 - accuracy: 0.6547 - val_loss: 1.0150 - val_accuracy: 0.6497\n",
      "Epoch 17/20\n",
      "40000/40000 [==============================] - 54s 1ms/step - loss: 0.9749 - accuracy: 0.6609 - val_loss: 1.0239 - val_accuracy: 0.6441\n",
      "Epoch 18/20\n",
      "40000/40000 [==============================] - 54s 1ms/step - loss: 0.9611 - accuracy: 0.6665 - val_loss: 1.0124 - val_accuracy: 0.6498\n",
      "Epoch 19/20\n",
      "40000/40000 [==============================] - 54s 1ms/step - loss: 0.9482 - accuracy: 0.6736 - val_loss: 1.0018 - val_accuracy: 0.6529\n",
      "Epoch 20/20\n",
      "40000/40000 [==============================] - 53s 1ms/step - loss: 0.9342 - accuracy: 0.6768 - val_loss: 0.9984 - val_accuracy: 0.6538\n",
      "10000/10000 [==============================] - 4s 387us/step\n",
      "Test score:  1.0013913187026977\n",
      "Test accuracy:  0.6470999717712402\n"
     ]
    }
   ],
   "source": [
    "#train\n",
    "model.compile(loss='categorical_crossentropy',optimizer='Adagrad',  metrics=['accuracy'])\n",
    "model.fit(X_train, Y_train, batch_size = BATCH_SIZE, epochs = NB_EPOCH, validation_split = VALIDATION_SPLIT,\n",
    "          verbose = VERBOSE)\n",
    "\n",
    "score = model.evaluate(X_test, Y_test,batch_size = BATCH_SIZE,verbose = VERBOSE)\n",
    "print('Test score: ', score[0])\n",
    "print('Test accuracy: ', score[1])\n",
    "#SGD, Adam, RMSprop"
   ]
  },
  {
   "cell_type": "code",
   "execution_count": 52,
   "metadata": {},
   "outputs": [],
   "source": [
    "#Using different optimizer we can change accuracy."
   ]
  },
  {
   "cell_type": "code",
   "execution_count": null,
   "metadata": {},
   "outputs": [],
   "source": []
  }
 ],
 "metadata": {
  "kernelspec": {
   "display_name": "Python 3",
   "language": "python",
   "name": "python3"
  },
  "language_info": {
   "codemirror_mode": {
    "name": "ipython",
    "version": 3
   },
   "file_extension": ".py",
   "mimetype": "text/x-python",
   "name": "python",
   "nbconvert_exporter": "python",
   "pygments_lexer": "ipython3",
   "version": "3.8.2"
  }
 },
 "nbformat": 4,
 "nbformat_minor": 4
}
